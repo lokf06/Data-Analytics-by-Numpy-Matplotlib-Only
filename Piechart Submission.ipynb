{
 "cells": [
  {
   "cell_type": "markdown",
   "id": "bf1c39cf",
   "metadata": {},
   "source": [
    "# Piechart To Analyse Bank Loan Application Distribution by Application Type Using HDB Dataset"
   ]
  },
  {
   "cell_type": "code",
   "execution_count": 139,
   "id": "e73b79d8",
   "metadata": {},
   "outputs": [],
   "source": [
    "# import the necessary packages\n",
    "import numpy as np \n",
    "import matplotlib.pyplot as plt\n"
   ]
  },
  {
   "cell_type": "code",
   "execution_count": 141,
   "id": "6d3da4f5",
   "metadata": {},
   "outputs": [
    {
     "name": "stdout",
     "output_type": "stream",
     "text": [
      "[('2008', 'new flat buyers',   936) ('2008', 'resale flat buyers', 14913)\n",
      " ('2008', 'existing flat owners (refinance)',    42)\n",
      " ('2009', 'new flat buyers',   948) ('2009', 'resale flat buyers', 22345)\n",
      " ('2009', 'existing flat owners (refinance)',   101)\n",
      " ('2010', 'new flat buyers',   868) ('2010', 'resale flat buyers', 17990)\n",
      " ('2010', 'existing flat owners (refinance)',   329)\n",
      " ('2011', 'new flat buyers',  2402)]\n",
      "[('financial_year', '<U50'), ('application_type', '<U50'), ('no_of_applications', '<i8')]\n",
      "(57,)\n"
     ]
    }
   ],
   "source": [
    "# load in the csv file and create dataset \n",
    "\n",
    "filename = \"C:/Users/lokf2/Desktop/SPDS/IT8701/CA1 Assignment1/hdb_dataset/ApplicationsReceivedtoFinancePurchasesRefinanceMortgageLoanwithBankLoans.csv\"\n",
    "\n",
    "data = np.genfromtxt(filename, \n",
    "                     skip_header=1, \n",
    "                     dtype=[('financial_year', 'U50'), ('application_type', 'U50'), ('no_of_applications', 'i8')], \n",
    "                     delimiter=',',\n",
    "                     missing_values=['na', '-', 'NA'], filling_values=0)\n",
    "print(data[:10])\n",
    "print(data.dtype)\n",
    "print(data.shape)"
   ]
  },
  {
   "cell_type": "code",
   "execution_count": 87,
   "id": "15488560",
   "metadata": {},
   "outputs": [
    {
     "name": "stdout",
     "output_type": "stream",
     "text": [
      "['new flat buyers' 'resale flat buyers' 'new flat buyers'\n",
      " 'resale flat buyers' 'new flat buyers' 'resale flat buyers'\n",
      " 'new flat buyers' 'resale flat buyers' 'DBSS flat buyers'\n",
      " 'new flat buyers']\n",
      "<U50\n",
      "(42,)\n",
      "\n",
      "[  936 14913   948 22345   868 17990  2402 15039   271  2219]\n",
      "int64\n",
      "(42,)\n"
     ]
    }
   ],
   "source": [
    "# Extract rows containing required keywords only\n",
    "data_app_types = data[np.isin(data['application_type'],['new flat buyers','resale flat buyers','existing flat owners(refinance)',\n",
    "                                'DBSS flat buyers'])]\n",
    "\n",
    "#print(data_app_types)\n",
    "# Extract Labels and Values\n",
    "labels = data_app_types['application_type']\n",
    "values = data_app_types['no_of_applications']\n",
    "\n",
    "#print(labels)\n",
    "#print(values)\n",
    "\n",
    "print(labels[:10])\n",
    "print(labels.dtype)\n",
    "print(labels.shape)\n",
    "print()\n",
    "print(values[:10])\n",
    "print(values.dtype)\n",
    "print(values.shape)\n",
    "\n"
   ]
  },
  {
   "cell_type": "code",
   "execution_count": 142,
   "id": "4b82287d",
   "metadata": {},
   "outputs": [
    {
     "name": "stdout",
     "output_type": "stream",
     "text": [
      "labels:  ['DBSS flat buyers', 'existing flat owners (refinance)', 'new flat buyers', 'resale flat buyers']\n",
      "\n"
     ]
    }
   ],
   "source": [
    "#Extract and Sort Labels\n",
    "labels = list(set(data['application_type']))\n",
    "labels.sort()\n",
    "print(\"labels: \", labels)\n",
    "print()"
   ]
  },
  {
   "cell_type": "code",
   "execution_count": 143,
   "id": "66a7a34a",
   "metadata": {},
   "outputs": [
    {
     "name": "stdout",
     "output_type": "stream",
     "text": [
      "levels: [0 1 2 3]\n",
      "\n"
     ]
    }
   ],
   "source": [
    "#Create Levels Array\n",
    "levels = np.arange(0,len(labels))\n",
    "print(\"levels:\", levels)\n",
    "print()"
   ]
  },
  {
   "cell_type": "code",
   "execution_count": 144,
   "id": "9e9babd4",
   "metadata": {},
   "outputs": [
    {
     "name": "stdout",
     "output_type": "stream",
     "text": [
      "levels_values:  [('new flat buyers',   936) ('resale flat buyers', 14913)\n",
      " ('existing flat owners (refinance)',    42) ('new flat buyers',   948)\n",
      " ('resale flat buyers', 22345) ('existing flat owners (refinance)',   101)\n",
      " ('new flat buyers',   868) ('resale flat buyers', 17990)\n",
      " ('existing flat owners (refinance)',   329) ('new flat buyers',  2402)\n",
      " ('resale flat buyers', 15039) ('existing flat owners (refinance)',   548)\n",
      " ('DBSS flat buyers',   271) ('new flat buyers',  2219)\n",
      " ('resale flat buyers', 15259) ('existing flat owners (refinance)',   611)\n",
      " ('DBSS flat buyers',  1017) ('new flat buyers',  2474)\n",
      " ('resale flat buyers',  9213) ('existing flat owners (refinance)',  1399)\n",
      " ('DBSS flat buyers',   244) ('new flat buyers',  2122)\n",
      " ('resale flat buyers',  9318) ('existing flat owners (refinance)',   578)\n",
      " ('DBSS flat buyers',   121) ('new flat buyers',  1730)\n",
      " ('resale flat buyers',  8211) ('existing flat owners (refinance)',   156)\n",
      " ('DBSS flat buyers',    44) ('new flat buyers',  1840)\n",
      " ('resale flat buyers',  8207) ('existing flat owners (refinance)',   326)\n",
      " ('DBSS flat buyers',     5) ('new flat buyers',  2235)\n",
      " ('resale flat buyers',  8563) ('existing flat owners (refinance)',  1020)\n",
      " ('DBSS flat buyers',     7) ('new flat buyers',  1499)\n",
      " ('resale flat buyers',  8136) ('existing flat owners (refinance)',   764)\n",
      " ('DBSS flat buyers',     2) ('new flat buyers',   609)\n",
      " ('resale flat buyers',  7577) ('existing flat owners (refinance)',   566)\n",
      " ('DBSS flat buyers',     2) ('new flat buyers',   690)\n",
      " ('resale flat buyers',  9920) ('existing flat owners (refinance)',  6809)\n",
      " ('DBSS flat buyers',     0) ('new flat buyers',   779)\n",
      " ('resale flat buyers', 12743) ('existing flat owners (refinance)',  4770)\n",
      " ('DBSS flat buyers',     2) ('new flat buyers',   411)\n",
      " ('resale flat buyers',  9461) ('existing flat owners (refinance)',   905)\n",
      " ('DBSS flat buyers',     0)]\n",
      "\n"
     ]
    }
   ],
   "source": [
    "#Extract application type and no of applications Columns\n",
    "levels_values = data[['application_type','no_of_applications']]\n",
    "print(\"levels_values: \", levels_values)\n",
    "print()"
   ]
  },
  {
   "cell_type": "code",
   "execution_count": 146,
   "id": "be5db2d1",
   "metadata": {},
   "outputs": [
    {
     "name": "stdout",
     "output_type": "stream",
     "text": [
      "values:  [  936 14913    42   948 22345   101   868 17990   329  2402 15039   548\n",
      "   271  2219 15259   611  1017  2474  9213  1399   244  2122  9318   578\n",
      "   121  1730  8211   156    44  1840  8207   326     5  2235  8563  1020\n",
      "     7  1499  8136   764     2   609  7577   566     2   690  9920  6809\n",
      "     0   779 12743  4770     2   411  9461   905     0]\n"
     ]
    }
   ],
   "source": [
    "#Extract no of applications Values\n",
    "values = levels_values['no_of_applications']\n",
    "print(\"values: \", values)"
   ]
  },
  {
   "cell_type": "code",
   "execution_count": 147,
   "id": "3756b25f",
   "metadata": {},
   "outputs": [],
   "source": [
    "# Extract no of applications in each bank loan type\n",
    "values_DBSSflatbuyers = values[levels_values['application_type'] == 'DBSS flat buyers']\n",
    "values_existingflatowners = values[levels_values['application_type'] == 'existing flat owners (refinance)']\n",
    "values_newflatbuyers = values[levels_values['application_type'] == 'new flat buyers']\n",
    "values_resaleflatbuyers = values[levels_values['application_type'] == 'resale flat buyers']\n"
   ]
  },
  {
   "cell_type": "code",
   "execution_count": 151,
   "id": "120a9ce8",
   "metadata": {},
   "outputs": [
    {
     "name": "stdout",
     "output_type": "stream",
     "text": [
      "4\n"
     ]
    },
    {
     "data": {
      "text/plain": [
       "[1715, 18924, 21762, 176895]"
      ]
     },
     "execution_count": 151,
     "metadata": {},
     "output_type": "execute_result"
    }
   ],
   "source": [
    "# Sum up values in each type and combine them in a list\n",
    "values_combined =[np.sum(values_DBSSflatbuyers), np.sum(values_existingflatowners), np.sum(values_newflatbuyers), np.sum(values_resaleflatbuyers)]\n",
    "print(len(values_combined))\n",
    "values_combined"
   ]
  },
  {
   "cell_type": "code",
   "execution_count": 152,
   "id": "b0aa618e",
   "metadata": {},
   "outputs": [
    {
     "data": {
      "image/png": "[encoded data removed]",
      "text/plain": [
       "<Figure size 640x480 with 1 Axes>"
      ]
     },
     "metadata": {},
     "output_type": "display_data"
    }
   ],
   "source": [
    "# Create Pie chart\n",
    "explode = (0, 0, 0, 0.1) # Explode 4th\n",
    "colors = ['#ea9d4e','#66b3ff','#99ff99','#FF4901'] # List of colors\n",
    "\n",
    "fig1, ax1 = plt.subplots()\n",
    "ax1.pie(values_combined, labels=labels, autopct='%1.1f%%',\n",
    "        shadow=False, startangle=0, explode=explode, colors=colors)\n",
    "\n",
    "# Eq aspect ratio draws pie as circle\n",
    "ax1.axis('equal')\n",
    "plt.title(\"Bank Loan Application Distribution By Application Type\", fontsize=15, loc='center', fontweight='bold')\n",
    "\n",
    "# Save the plot to a file\n",
    "plt.savefig('Piechart - Bank Loan Application Distribution By Application Type.png', dpi=300, bbox_inches='tight')\n",
    "\n",
    "plt.show()"
   ]
  },
  {
   "cell_type": "code",
   "execution_count": null,
   "id": "650414c5",
   "metadata": {},
   "outputs": [],
   "source": []
  }
 ],
 "metadata": {
  "kernelspec": {
   "display_name": "Python 3 (ipykernel)",
   "language": "python",
   "name": "python3"
  },
  "language_info": {
   "codemirror_mode": {
    "name": "ipython",
    "version": 3
   },
   "file_extension": ".py",
   "mimetype": "text/x-python",
   "name": "python",
   "nbconvert_exporter": "python",
   "pygments_lexer": "ipython3",
   "version": "3.11.5"
  }
 },
 "nbformat": 4,
 "nbformat_minor": 5
}
